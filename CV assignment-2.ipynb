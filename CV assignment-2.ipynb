{
 "cells": [
  {
   "cell_type": "raw",
   "id": "a7c236d5",
   "metadata": {},
   "source": [
    "1. Explain convolutional neural network, and how does it work?"
   ]
  },
  {
   "cell_type": "raw",
   "id": "f9036500",
   "metadata": {},
   "source": [
    "ans:A convolutional neural network (CNN) is a type of artificial neural network used in image recognition and processing that is specifically designed to process pixel data. CNNs use a combination of convolutional layers, pooling layers, and fully connected layers to identify patterns in the data. Convolutional layers use a filter to scan across the image and detect specific features, such as lines, corners, and edges. Pooling layers reduce the dimensionality of the image by combining pixels together. The fully connected layers then combine these features to identify objects and classify images."
   ]
  },
  {
   "cell_type": "code",
   "execution_count": null,
   "id": "a476c0f3",
   "metadata": {},
   "outputs": [],
   "source": []
  },
  {
   "cell_type": "code",
   "execution_count": null,
   "id": "fa191dc0",
   "metadata": {},
   "outputs": [],
   "source": []
  },
  {
   "cell_type": "raw",
   "id": "6e2aea39",
   "metadata": {},
   "source": [
    "2. How does refactoring parts of your neural network definition favor you?"
   ]
  },
  {
   "cell_type": "raw",
   "id": "34590457",
   "metadata": {},
   "source": [
    "ans:Refactoring parts of your neural network definition can make the code easier to understand, debug, and maintain. It also allows you to reuse code, making it easier to experiment with different model architectures. By making the code more modular, it is also easier to add or remove layers, adjust hyperparameters, or even extend the network with additional features. Refactoring can also help make your code more efficient, as it allows you to reuse code and optimize calculations."
   ]
  },
  {
   "cell_type": "code",
   "execution_count": null,
   "id": "01742d54",
   "metadata": {},
   "outputs": [],
   "source": []
  },
  {
   "cell_type": "code",
   "execution_count": null,
   "id": "54416e17",
   "metadata": {},
   "outputs": [],
   "source": []
  },
  {
   "cell_type": "raw",
   "id": "fea786e3",
   "metadata": {},
   "source": [
    "3. What does it mean to flatten? Is it necessary to include it in the MNIST CNN? What is the reason\n",
    "for this?"
   ]
  },
  {
   "cell_type": "raw",
   "id": "75336146",
   "metadata": {},
   "source": [
    "ans:To flatten is to transform a multi-dimensional array into a single dimensional array. It is necessary to include it in the MNIST CNN to transform the output of the convolutional layers into a single dimensional array before the dense layer. This is because the dense layer requires a one-dimensional array as input."
   ]
  },
  {
   "cell_type": "code",
   "execution_count": null,
   "id": "6d0ec444",
   "metadata": {},
   "outputs": [],
   "source": []
  },
  {
   "cell_type": "raw",
   "id": "2f5aa6c5",
   "metadata": {},
   "source": [
    "4. What exactly does NCHW stand for?"
   ]
  },
  {
   "cell_type": "raw",
   "id": "450d92a6",
   "metadata": {},
   "source": [
    "ans:NCHW stands for \"Nested Channel-wise High-dimensional Weighting\" and is a type of deep learning architecture. It is used to improve the accuracy of predictive models by utilizing a multi-level hierarchical structure to better understand complex data."
   ]
  },
  {
   "cell_type": "code",
   "execution_count": null,
   "id": "38a5d276",
   "metadata": {},
   "outputs": [],
   "source": []
  },
  {
   "cell_type": "code",
   "execution_count": null,
   "id": "55ebe8d6",
   "metadata": {},
   "outputs": [],
   "source": []
  },
  {
   "cell_type": "raw",
   "id": "f2d1c70c",
   "metadata": {},
   "source": [
    "5. Why are there 7*7*(1168-16) multiplications in the MNIST CNN&#39;s third layer?"
   ]
  },
  {
   "cell_type": "raw",
   "id": "54830a80",
   "metadata": {},
   "source": [
    "ans:The 7x7x(1168-16) multiplications in the MNIST CNN's third layer is the result of the number of parameters in the layer. The first two layers of the MNIST CNN have 1168 input neurons and 16 convolutional filters. Each of these filters has a 7x7 parameter matrix, resulting in 1168 x 16 = 7 x 7 x (1168 - 16) multiplications."
   ]
  },
  {
   "cell_type": "code",
   "execution_count": null,
   "id": "bc35120e",
   "metadata": {},
   "outputs": [],
   "source": []
  },
  {
   "cell_type": "raw",
   "id": "e2211572",
   "metadata": {},
   "source": [
    "6.Explain definition of receptive field?"
   ]
  },
  {
   "cell_type": "raw",
   "id": "2ebae70e",
   "metadata": {},
   "source": [
    "ans:A receptive field is a specific region in the visual field of an individual (or a neuron) that responds most strongly to a particular stimulus. It is the area within which a stimulus produces a detectable response in the neuron or individual, and is usually defined by the size and shape of the stimulus that produces the greatest response. The receptive field is often used to analyze the visual processing of the brain, as well as to understand the physiology of the visual system. Receptive fields can also be used to study the effects of visual stimuli on behavior, such as how a person responds to an object in their visual field."
   ]
  },
  {
   "cell_type": "code",
   "execution_count": null,
   "id": "0dfdefe5",
   "metadata": {},
   "outputs": [],
   "source": []
  },
  {
   "cell_type": "raw",
   "id": "0e098e94",
   "metadata": {},
   "source": [
    "7. What is the scale of an activation&#39;s receptive field after two stride-2 convolutions? What is the\n",
    "reason for this?"
   ]
  },
  {
   "cell_type": "raw",
   "id": "0e26f5cf",
   "metadata": {},
   "source": [
    "ans:After two stride-2 convolutions, the scale of the receptive field is 4. This is because stride-2 convolutions reduce the size of the receptive field by half each time, so two stride-2 convolutions reduces the size of the receptive field by a factor of 4."
   ]
  },
  {
   "cell_type": "code",
   "execution_count": null,
   "id": "d8841bda",
   "metadata": {},
   "outputs": [],
   "source": []
  },
  {
   "cell_type": "code",
   "execution_count": null,
   "id": "f2af28b9",
   "metadata": {},
   "outputs": [],
   "source": []
  },
  {
   "cell_type": "raw",
   "id": "b45c44c4",
   "metadata": {},
   "source": [
    "8. What is the tensor representation of a color image?"
   ]
  },
  {
   "cell_type": "raw",
   "id": "9a415665",
   "metadata": {},
   "source": [
    "ans:A tensor representation of a color image is a three-dimensional array that contains the values of each pixel in the image. The first two dimensions represent the height and width of the image, while the third dimension represents the color channels (e.g. Red, Green, Blue)."
   ]
  },
  {
   "cell_type": "code",
   "execution_count": null,
   "id": "9c471168",
   "metadata": {},
   "outputs": [],
   "source": []
  },
  {
   "cell_type": "raw",
   "id": "8b3c9345",
   "metadata": {},
   "source": [
    "9. How does a color input interact with a convolution?"
   ]
  },
  {
   "cell_type": "raw",
   "id": "b0913e85",
   "metadata": {},
   "source": [
    "ans:A color input can interact with a convolution by using a color filter. The convolution will apply the filter to the input image, transforming the input into a new image with the same dimensions as the original but with the colors altered according to the filter. The convolution will essentially process the input image and create a new image with the desired color effects."
   ]
  },
  {
   "cell_type": "code",
   "execution_count": null,
   "id": "4b2c4e4f",
   "metadata": {},
   "outputs": [],
   "source": []
  },
  {
   "cell_type": "code",
   "execution_count": null,
   "id": "f2eb0c9f",
   "metadata": {},
   "outputs": [],
   "source": []
  }
 ],
 "metadata": {
  "kernelspec": {
   "display_name": "Python 3",
   "language": "python",
   "name": "python3"
  },
  "language_info": {
   "codemirror_mode": {
    "name": "ipython",
    "version": 3
   },
   "file_extension": ".py",
   "mimetype": "text/x-python",
   "name": "python",
   "nbconvert_exporter": "python",
   "pygments_lexer": "ipython3",
   "version": "3.8.8"
  }
 },
 "nbformat": 4,
 "nbformat_minor": 5
}
